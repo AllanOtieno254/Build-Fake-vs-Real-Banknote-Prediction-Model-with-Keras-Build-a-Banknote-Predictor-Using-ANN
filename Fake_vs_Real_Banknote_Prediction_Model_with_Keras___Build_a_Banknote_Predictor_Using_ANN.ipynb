{
  "cells": [
    {
      "cell_type": "markdown",
      "metadata": {
        "id": "N81-56fCKaJb"
      },
      "source": [
        "# **Step 1 : Load Tools**"
      ]
    },
    {
      "cell_type": "code",
      "execution_count": 47,
      "metadata": {
        "colab": {
          "base_uri": "https://localhost:8080/"
        },
        "id": "IOHX9i34QTBQ",
        "outputId": "3118ffa8-e1dd-44c7-8664-00a963c2f0e7"
      },
      "outputs": [],
      "source": [
        "# from google.colab import drive\n",
        "# drive.mount('/content/Bank_note_prediction')"
      ]
    },
    {
      "cell_type": "code",
      "execution_count": 48,
      "metadata": {
        "id": "4HMk6B-cdkON"
      },
      "outputs": [],
      "source": [
        "# Importing core libraries for data handling and visualization\n",
        "import numpy as np               # NumPy: used for numerical computations, arrays, linear algebra, math functions\n",
        "import pandas as pd              # Pandas: used for data manipulation and analysis (DataFrames, CSV loading, etc.)\n",
        "import matplotlib.pyplot as plt  # Matplotlib: plotting library for creating visualizations like line, bar, scatter plots\n",
        "import seaborn as sns            # Seaborn: advanced visualization library built on Matplotlib, used for heatmaps, pairplots, etc.\n",
        "\n",
        "# Importing essential Scikit-learn modules for ML workflow\n",
        "from sklearn.model_selection import train_test_split  # Splits dataset into training and testing subsets\n",
        "from sklearn.preprocessing import StandardScaler      # Standardizes features by removing mean and scaling to unit variance\n",
        "from sklearn.metrics import accuracy_score, confusion_matrix, classification_report  \n",
        "# accuracy_score → Calculates how many predictions are correct\n",
        "# confusion_matrix → Shows true positives, false positives, true negatives, false negatives\n",
        "# classification_report → Provides precision, recall, F1-score, and support for each class\n",
        "\n",
        "# Importing TensorFlow Keras modules for Deep Learning (ANN)\n",
        "from tensorflow.keras.models import Sequential   # Sequential: a linear stack of layers for building ANN models\n",
        "from tensorflow.keras.layers import Dense,Dropout  \n",
        "# Dense → Fully connected neural network layer (every neuron connected to the next layer)\n",
        "# Dropout → Regularization technique that randomly turns off some neurons during training to avoid overfitting\n",
        "\n",
        "from tensorflow.keras.utils import to_categorical  \n",
        "# Converts labels (e.g., 0,1) into one-hot encoded vectors, useful for multi-class classification\n",
        "\n",
        "from tensorflow.keras.callbacks import EarlyStopping  \n",
        "# Stops training early if the model performance stops improving (prevents overfitting and saves training time)\n"
      ]
    },
    {
      "cell_type": "markdown",
      "metadata": {
        "id": "R5FGf4-jKls8"
      },
      "source": [
        "# **Step 2 : Load Dataset**"
      ]
    },
    {
      "cell_type": "markdown",
      "metadata": {
        "id": "-jX8iCU2Tcs6"
      },
      "source": [
        "# **About Dataset**\n",
        "# **Context**\n",
        "Banknotes are one of the most important assets of a country. Some miscreants introduce fake notes which bear a resemblance to original notes to create discrepancies in the money in the financial market. It is difficult for humans to tell true and fake banknotes apart especially because they have a lot of similar features.\n",
        "\n",
        "# **Motivation**\n",
        "Despite a decrease in the use of currency due to the recent growth in the use of electronic transactions, cash transactions remain very important in the global market. Banknotes are used to carry out financial activities. To continue with smooth cash transactions, the entry of forged banknotes in circulation should be preserved. There has been a drastic increase in the rate of fake notes in the market. Fake money is an imitation of genuine notes and is created illegally for various motives. These fake notes are created in all denominations which brings the financial market of the country to a low level. The various advancements in the field of scanners and copy machines have led the miscreants to create copies of banknotes. It is difficult for human-eye to recognize a fake note because they are created with great accuracy to look alike a genuine note. Security aspects of banknotes have to be considered and security features are to be introduced to mitigate fake currency. Hence, there is a dire need for banks and ATMs to implement a system that classifies a note as genuine or fake.\n",
        "\n",
        "# **Objective**\n",
        "Being a Data Science Enthusiast, you committed yourself to use the power of Data Science and coming up with an efficient model that accurately predicts if a note is genuine or not.\n",
        "\n",
        "# **About the Data**\n",
        "Data were extracted from images that were taken for the evaluation of an authentication procedure for banknotes. Data were extracted from images that were taken from genuine and forged banknote-like specimens. For digitization, an industrial camera usually used for print inspection was used. The final images have 400x 400 pixels. Due to the object lens and distance to the investigated object grey-scale pictures with a resolution of about 660 dpi were gained. Wavelet Transform tool was used to extract features from images.\n",
        "\n",
        "# **Data Description**\n",
        "\n",
        "VWTI: Variance of Wavelet Transformed Image\n",
        "\n",
        "SWTI: Skewness of Wavelet Transformed Image\n",
        "\n",
        "CWTI: Curtosis of Wavelet Transformed Image\n",
        "\n",
        "EI: Entropy of Image\n",
        "\n",
        "Class: Class (1: genuine, 0: forged)"
      ]
    },
    {
      "cell_type": "code",
      "execution_count": 49,
      "metadata": {
        "colab": {
          "base_uri": "https://localhost:8080/",
          "height": 424
        },
        "id": "HAt_uE1yW4gX",
        "outputId": "8c98b873-ebd0-4d97-a6c3-7308eba5f2e5"
      },
      "outputs": [
        {
          "data": {
            "application/vnd.microsoft.datawrangler.viewer.v0+json": {
              "columns": [
                {
                  "name": "index",
                  "rawType": "int64",
                  "type": "integer"
                },
                {
                  "name": "VWTI",
                  "rawType": "float64",
                  "type": "float"
                },
                {
                  "name": "SWTI",
                  "rawType": "float64",
                  "type": "float"
                },
                {
                  "name": "CWTI",
                  "rawType": "float64",
                  "type": "float"
                },
                {
                  "name": "EI",
                  "rawType": "float64",
                  "type": "float"
                },
                {
                  "name": "Class",
                  "rawType": "int64",
                  "type": "integer"
                }
              ],
              "ref": "90c4177c-020f-43c7-8fb6-e5fbc28ca2af",
              "rows": [
                [
                  "0",
                  "2.2634",
                  "-4.4862",
                  "3.6558",
                  "-0.61251",
                  "0"
                ],
                [
                  "1",
                  "3.2718",
                  "1.7837",
                  "2.1161",
                  "0.61334",
                  "0"
                ],
                [
                  "2",
                  "-3.9411",
                  "-12.8792",
                  "13.0597",
                  "-3.3125",
                  "1"
                ],
                [
                  "3",
                  "0.5195",
                  "-3.2633",
                  "3.0895",
                  "-0.9849",
                  "0"
                ],
                [
                  "4",
                  "2.5698",
                  "-4.4076",
                  "5.9856",
                  "0.078002",
                  "0"
                ],
                [
                  "5",
                  "-3.793",
                  "-12.7095",
                  "12.7957",
                  "-2.825",
                  "1"
                ],
                [
                  "6",
                  "-2.2987",
                  "-5.227",
                  "5.63",
                  "0.91722",
                  "1"
                ],
                [
                  "7",
                  "-4.0786",
                  "2.9239",
                  "0.87026",
                  "-0.65389",
                  "1"
                ],
                [
                  "8",
                  "2.4486",
                  "-6.3175",
                  "7.9632",
                  "0.2060199999999999",
                  "0"
                ],
                [
                  "9",
                  "1.8993",
                  "7.6625",
                  "0.15394",
                  "-3.1108",
                  "0"
                ],
                [
                  "10",
                  "0.3292",
                  "-4.4552",
                  "4.5718",
                  "-0.9888",
                  "0"
                ],
                [
                  "11",
                  "-0.95403",
                  "1.9824",
                  "-2.3163",
                  "-1.1957",
                  "1"
                ],
                [
                  "12",
                  "-4.0679",
                  "2.4955",
                  "0.79571",
                  "-1.1039",
                  "1"
                ],
                [
                  "13",
                  "-1.5055",
                  "0.070346",
                  "6.8681",
                  "-0.50648",
                  "0"
                ],
                [
                  "14",
                  "0.74841",
                  "7.2756",
                  "1.1504",
                  "-0.5388",
                  "0"
                ],
                [
                  "15",
                  "-0.55648",
                  "3.2136",
                  "-3.3085",
                  "-2.7965",
                  "1"
                ],
                [
                  "16",
                  "3.2403",
                  "-3.7082",
                  "5.2804",
                  "0.41291",
                  "0"
                ],
                [
                  "17",
                  "-3.5985",
                  "-13.6593",
                  "17.6052",
                  "-2.4927",
                  "1"
                ],
                [
                  "18",
                  "-2.0897",
                  "10.8265",
                  "2.3603",
                  "-3.4198",
                  "0"
                ],
                [
                  "19",
                  "-1.3",
                  "10.2678",
                  "-2.9530000000000003",
                  "-5.8638",
                  "0"
                ],
                [
                  "20",
                  "0.5593899999999999",
                  "-0.3104",
                  "0.18307",
                  "0.44653",
                  "1"
                ],
                [
                  "21",
                  "4.1197",
                  "-2.7956",
                  "2.0707",
                  "0.6741199999999999",
                  "0"
                ],
                [
                  "22",
                  "2.0153",
                  "1.8479",
                  "3.1375",
                  "0.42843",
                  "0"
                ],
                [
                  "23",
                  "0.3798",
                  "0.7098",
                  "0.7572",
                  "-0.4444",
                  "0"
                ],
                [
                  "24",
                  "-0.7351",
                  "1.7361",
                  "-1.4938",
                  "-1.1582",
                  "1"
                ],
                [
                  "25",
                  "-3.2854",
                  "4.0372",
                  "-0.45356",
                  "-1.8228",
                  "1"
                ],
                [
                  "26",
                  "2.7213",
                  "7.05",
                  "-0.58808",
                  "0.4180899999999999",
                  "0"
                ],
                [
                  "27",
                  "1.8592",
                  "3.2074",
                  "-0.15966",
                  "-0.26208",
                  "0"
                ],
                [
                  "28",
                  "1.602",
                  "6.1251",
                  "0.5292399999999999",
                  "0.47886",
                  "0"
                ],
                [
                  "29",
                  "3.82",
                  "10.9279",
                  "-4.0112",
                  "-5.0284",
                  "0"
                ],
                [
                  "30",
                  "1.0009",
                  "7.7846",
                  "-0.28219",
                  "-2.6608",
                  "0"
                ],
                [
                  "31",
                  "-1.9881",
                  "0.99945",
                  "-0.28562",
                  "-0.70044",
                  "1"
                ],
                [
                  "32",
                  "-2.2173",
                  "1.4671",
                  "-0.7268899999999999",
                  "-1.1724",
                  "1"
                ],
                [
                  "33",
                  "4.4295",
                  "-2.3507",
                  "1.7048",
                  "0.90946",
                  "0"
                ],
                [
                  "34",
                  "5.7227",
                  "5.8312",
                  "-2.4097",
                  "-0.24527",
                  "0"
                ],
                [
                  "35",
                  "2.9571",
                  "-4.5938",
                  "5.9068",
                  "0.57196",
                  "0"
                ],
                [
                  "36",
                  "4.1038",
                  "-4.8069",
                  "3.3491",
                  "-0.49225",
                  "0"
                ],
                [
                  "37",
                  "0.11592",
                  "3.2219",
                  "-3.4302",
                  "-2.8457",
                  "1"
                ],
                [
                  "38",
                  "2.0962",
                  "2.4769",
                  "1.9379",
                  "-0.040962",
                  "0"
                ],
                [
                  "39",
                  "1.3419",
                  "-4.4221",
                  "8.09",
                  "-1.7349",
                  "0"
                ],
                [
                  "40",
                  "2.4012",
                  "1.6223",
                  "3.0312",
                  "0.7167899999999999",
                  "0"
                ],
                [
                  "41",
                  "-1.6641",
                  "-1.3678",
                  "1.997",
                  "0.52283",
                  "1"
                ],
                [
                  "42",
                  "-4.2091",
                  "4.7283",
                  "-0.49126",
                  "-5.2159",
                  "1"
                ],
                [
                  "43",
                  "-1.8584",
                  "7.886",
                  "-1.6643",
                  "-1.8384",
                  "0"
                ],
                [
                  "44",
                  "-1.7064",
                  "3.3088",
                  "-2.2829",
                  "-2.1978",
                  "1"
                ],
                [
                  "45",
                  "0.066129",
                  "2.4914",
                  "-2.9401",
                  "-0.62156",
                  "1"
                ],
                [
                  "46",
                  "-4.8426",
                  "-4.9932",
                  "10.4052",
                  "-0.53104",
                  "1"
                ],
                [
                  "47",
                  "-3.0201",
                  "-0.6725300000000001",
                  "2.7056",
                  "0.85774",
                  "1"
                ],
                [
                  "48",
                  "3.2051",
                  "8.6889",
                  "-2.9033",
                  "-0.7819",
                  "0"
                ],
                [
                  "49",
                  "-3.551",
                  "1.8955",
                  "0.1865",
                  "-2.4409",
                  "1"
                ]
              ],
              "shape": {
                "columns": 5,
                "rows": 1096
              }
            },
            "text/html": [
              "<div>\n",
              "<style scoped>\n",
              "    .dataframe tbody tr th:only-of-type {\n",
              "        vertical-align: middle;\n",
              "    }\n",
              "\n",
              "    .dataframe tbody tr th {\n",
              "        vertical-align: top;\n",
              "    }\n",
              "\n",
              "    .dataframe thead th {\n",
              "        text-align: right;\n",
              "    }\n",
              "</style>\n",
              "<table border=\"1\" class=\"dataframe\">\n",
              "  <thead>\n",
              "    <tr style=\"text-align: right;\">\n",
              "      <th></th>\n",
              "      <th>VWTI</th>\n",
              "      <th>SWTI</th>\n",
              "      <th>CWTI</th>\n",
              "      <th>EI</th>\n",
              "      <th>Class</th>\n",
              "    </tr>\n",
              "  </thead>\n",
              "  <tbody>\n",
              "    <tr>\n",
              "      <th>0</th>\n",
              "      <td>2.263400</td>\n",
              "      <td>-4.4862</td>\n",
              "      <td>3.65580</td>\n",
              "      <td>-0.612510</td>\n",
              "      <td>0</td>\n",
              "    </tr>\n",
              "    <tr>\n",
              "      <th>1</th>\n",
              "      <td>3.271800</td>\n",
              "      <td>1.7837</td>\n",
              "      <td>2.11610</td>\n",
              "      <td>0.613340</td>\n",
              "      <td>0</td>\n",
              "    </tr>\n",
              "    <tr>\n",
              "      <th>2</th>\n",
              "      <td>-3.941100</td>\n",
              "      <td>-12.8792</td>\n",
              "      <td>13.05970</td>\n",
              "      <td>-3.312500</td>\n",
              "      <td>1</td>\n",
              "    </tr>\n",
              "    <tr>\n",
              "      <th>3</th>\n",
              "      <td>0.519500</td>\n",
              "      <td>-3.2633</td>\n",
              "      <td>3.08950</td>\n",
              "      <td>-0.984900</td>\n",
              "      <td>0</td>\n",
              "    </tr>\n",
              "    <tr>\n",
              "      <th>4</th>\n",
              "      <td>2.569800</td>\n",
              "      <td>-4.4076</td>\n",
              "      <td>5.98560</td>\n",
              "      <td>0.078002</td>\n",
              "      <td>0</td>\n",
              "    </tr>\n",
              "    <tr>\n",
              "      <th>...</th>\n",
              "      <td>...</td>\n",
              "      <td>...</td>\n",
              "      <td>...</td>\n",
              "      <td>...</td>\n",
              "      <td>...</td>\n",
              "    </tr>\n",
              "    <tr>\n",
              "      <th>1091</th>\n",
              "      <td>1.640600</td>\n",
              "      <td>3.5488</td>\n",
              "      <td>1.39640</td>\n",
              "      <td>-0.364240</td>\n",
              "      <td>0</td>\n",
              "    </tr>\n",
              "    <tr>\n",
              "      <th>1092</th>\n",
              "      <td>-0.048008</td>\n",
              "      <td>-1.6037</td>\n",
              "      <td>8.47560</td>\n",
              "      <td>0.755580</td>\n",
              "      <td>0</td>\n",
              "    </tr>\n",
              "    <tr>\n",
              "      <th>1093</th>\n",
              "      <td>2.942100</td>\n",
              "      <td>7.4101</td>\n",
              "      <td>-0.97709</td>\n",
              "      <td>-0.884060</td>\n",
              "      <td>0</td>\n",
              "    </tr>\n",
              "    <tr>\n",
              "      <th>1094</th>\n",
              "      <td>1.964700</td>\n",
              "      <td>6.9383</td>\n",
              "      <td>0.57722</td>\n",
              "      <td>0.663770</td>\n",
              "      <td>0</td>\n",
              "    </tr>\n",
              "    <tr>\n",
              "      <th>1095</th>\n",
              "      <td>-0.126240</td>\n",
              "      <td>10.3216</td>\n",
              "      <td>-3.71210</td>\n",
              "      <td>-6.118500</td>\n",
              "      <td>0</td>\n",
              "    </tr>\n",
              "  </tbody>\n",
              "</table>\n",
              "<p>1096 rows × 5 columns</p>\n",
              "</div>"
            ],
            "text/plain": [
              "          VWTI     SWTI      CWTI        EI  Class\n",
              "0     2.263400  -4.4862   3.65580 -0.612510      0\n",
              "1     3.271800   1.7837   2.11610  0.613340      0\n",
              "2    -3.941100 -12.8792  13.05970 -3.312500      1\n",
              "3     0.519500  -3.2633   3.08950 -0.984900      0\n",
              "4     2.569800  -4.4076   5.98560  0.078002      0\n",
              "...        ...      ...       ...       ...    ...\n",
              "1091  1.640600   3.5488   1.39640 -0.364240      0\n",
              "1092 -0.048008  -1.6037   8.47560  0.755580      0\n",
              "1093  2.942100   7.4101  -0.97709 -0.884060      0\n",
              "1094  1.964700   6.9383   0.57722  0.663770      0\n",
              "1095 -0.126240  10.3216  -3.71210 -6.118500      0\n",
              "\n",
              "[1096 rows x 5 columns]"
            ]
          },
          "execution_count": 49,
          "metadata": {},
          "output_type": "execute_result"
        }
      ],
      "source": [
        "# Load Dataset\n",
        "data = pd.read_csv(\"./data/train.csv\")  \n",
        "# 📌 pd.read_csv → Reads a CSV file and loads it into a Pandas DataFrame.\n",
        "# \"./data/train.csv\" → Path to the dataset (inside a 'data' folder, file named 'train.csv').\n",
        "# The resulting 'data' variable will now hold the entire dataset in a tabular (row-column) structure.\n",
        "\n",
        "data  \n",
        "# 📌 Displays the contents of the DataFrame (usually the first 20 rows by default in notebooks like Jupyter/Colab).\n",
        "# Useful for quickly checking if the dataset was loaded correctly.\n"
      ]
    },
    {
      "cell_type": "markdown",
      "metadata": {
        "id": "kqlBULLvkjTw"
      },
      "source": [
        "# **Step 3 : Data Preprocessing**"
      ]
    },
    {
      "cell_type": "code",
      "execution_count": 50,
      "metadata": {
        "colab": {
          "base_uri": "https://localhost:8080/"
        },
        "id": "BGha484jkop7",
        "outputId": "4196dce7-acba-4654-c1c0-6fb0ed895b97"
      },
      "outputs": [
        {
          "name": "stdout",
          "output_type": "stream",
          "text": [
            "X_train shape: (700, 4), y_train shape: (700,)\n",
            "X_val shape: (176, 4), y_val shape: (176,)\n",
            "X_test shape: (220, 4), y_test shape: (220,)\n"
          ]
        }
      ],
      "source": [
        "# Separate features and target\n",
        "X = data[['VWTI', 'SWTI', 'CWTI', 'EI']]  \n",
        "# 📌 'X' holds the independent variables (features) used to predict the target.\n",
        "# Here, we select the columns 'VWTI', 'SWTI', 'CWTI', and 'EI' from the dataset as inputs.\n",
        "\n",
        "y = data['Class']  \n",
        "# 📌 'y' is the dependent variable (target), which we want to predict (e.g., 0 = fake note, 1 = real note).\n",
        "\n",
        "\n",
        "# Train-test split\n",
        "X_train, X_test, y_train, y_test = train_test_split(X, y, test_size=0.2, random_state=42)  \n",
        "# 📌 Splits the dataset into training and testing sets.\n",
        "# test_size=0.2 → 20% of the data is reserved for testing, 80% for training.\n",
        "# random_state=42 → ensures reproducibility (same split every run).\n",
        "\n",
        "\n",
        "# Further split training data into train and validation sets\n",
        "X_train, X_val, y_train, y_val = train_test_split(X_train, y_train, test_size=0.2, random_state=42)  \n",
        "# 📌 Further splits the training set into training (64%) and validation (16%).\n",
        "# Validation set helps tune hyperparameters and monitor model performance during training.\n",
        "\n",
        "\n",
        "# Feature scaling\n",
        "scaler = StandardScaler()  \n",
        "# 📌 Creates a StandardScaler object to normalize features.\n",
        "# StandardScaler transforms features so they have mean = 0 and standard deviation = 1.\n",
        "\n",
        "X_train = scaler.fit_transform(X_train)  \n",
        "# 📌 Fits the scaler on training data (learns mean & std) and applies scaling.\n",
        "# Always fit only on training data to prevent data leakage.\n",
        "\n",
        "X_val = scaler.transform(X_val)  \n",
        "# 📌 Uses the scaler fitted on training data to scale validation features.\n",
        "\n",
        "X_test = scaler.transform(X_test)  \n",
        "# 📌 Uses the same scaler to scale test features (ensures consistency across datasets).\n",
        "\n",
        "\n",
        "# Ensure target is in binary format (0 or 1 for binary classification)\n",
        "# No need for one-hot encoding in binary classification\n",
        "y_train = y_train.values  \n",
        "y_val = y_val.values  \n",
        "y_test = y_test.values  \n",
        "# 📌 Converts the target Series into NumPy arrays for compatibility with ML/DL models.\n",
        "# Since it's binary classification (0 or 1), one-hot encoding isn’t required.\n",
        "\n",
        "\n",
        "# Check shapes\n",
        "print(f\"X_train shape: {X_train.shape}, y_train shape: {y_train.shape}\")  \n",
        "print(f\"X_val shape: {X_val.shape}, y_val shape: {y_val.shape}\")  \n",
        "print(f\"X_test shape: {X_test.shape}, y_test shape: {y_test.shape}\")  \n",
        "# 📌 Prints the shape (rows, columns) of each dataset to confirm splits are correct.\n",
        "# Helps verify that features and targets align properly in each set.\n"
      ]
    },
    {
      "cell_type": "markdown",
      "metadata": {
        "id": "Ltr89cXxro3u"
      },
      "source": [
        "# **Step 4 : Build the ANN Model**"
      ]
    },
    {
      "cell_type": "code",
      "execution_count": 51,
      "metadata": {
        "colab": {
          "base_uri": "https://localhost:8080/"
        },
        "id": "78g-vOUusbpb",
        "outputId": "e4d35ad8-daea-4828-bc56-bb613315713f"
      },
      "outputs": [
        {
          "data": {
            "text/plain": [
              "4"
            ]
          },
          "execution_count": 51,
          "metadata": {},
          "output_type": "execute_result"
        }
      ],
      "source": [
        "X_train.shape[1]"
      ]
    },
    {
      "cell_type": "code",
      "execution_count": 52,
      "metadata": {
        "colab": {
          "base_uri": "https://localhost:8080/",
          "height": 395
        },
        "id": "Gm_ftL7XrvLQ",
        "outputId": "8bd71c1a-205a-4b92-f2bd-00503394298a"
      },
      "outputs": [
        {
          "name": "stderr",
          "output_type": "stream",
          "text": [
            "c:\\Users\\kevin\\Documents\\my projects\\Building Fake Bank Notes Detection System Using Deep learning ANN\\venv\\Lib\\site-packages\\keras\\src\\layers\\core\\dense.py:92: UserWarning: Do not pass an `input_shape`/`input_dim` argument to a layer. When using Sequential models, prefer using an `Input(shape)` object as the first layer in the model instead.\n",
            "  super().__init__(activity_regularizer=activity_regularizer, **kwargs)\n"
          ]
        },
        {
          "data": {
            "text/html": [
              "<pre style=\"white-space:pre;overflow-x:auto;line-height:normal;font-family:Menlo,'DejaVu Sans Mono',consolas,'Courier New',monospace\"><span style=\"font-weight: bold\">Model: \"sequential_3\"</span>\n",
              "</pre>\n"
            ],
            "text/plain": [
              "\u001b[1mModel: \"sequential_3\"\u001b[0m\n"
            ]
          },
          "metadata": {},
          "output_type": "display_data"
        },
        {
          "data": {
            "text/html": [
              "<pre style=\"white-space:pre;overflow-x:auto;line-height:normal;font-family:Menlo,'DejaVu Sans Mono',consolas,'Courier New',monospace\">┏━━━━━━━━━━━━━━━━━━━━━━━━━━━━━━━━━┳━━━━━━━━━━━━━━━━━━━━━━━━┳━━━━━━━━━━━━━━━┓\n",
              "┃<span style=\"font-weight: bold\"> Layer (type)                    </span>┃<span style=\"font-weight: bold\"> Output Shape           </span>┃<span style=\"font-weight: bold\">       Param # </span>┃\n",
              "┡━━━━━━━━━━━━━━━━━━━━━━━━━━━━━━━━━╇━━━━━━━━━━━━━━━━━━━━━━━━╇━━━━━━━━━━━━━━━┩\n",
              "│ dense_12 (<span style=\"color: #0087ff; text-decoration-color: #0087ff\">Dense</span>)                │ (<span style=\"color: #00d7ff; text-decoration-color: #00d7ff\">None</span>, <span style=\"color: #00af00; text-decoration-color: #00af00\">64</span>)             │           <span style=\"color: #00af00; text-decoration-color: #00af00\">320</span> │\n",
              "├─────────────────────────────────┼────────────────────────┼───────────────┤\n",
              "│ dropout_6 (<span style=\"color: #0087ff; text-decoration-color: #0087ff\">Dropout</span>)             │ (<span style=\"color: #00d7ff; text-decoration-color: #00d7ff\">None</span>, <span style=\"color: #00af00; text-decoration-color: #00af00\">64</span>)             │             <span style=\"color: #00af00; text-decoration-color: #00af00\">0</span> │\n",
              "├─────────────────────────────────┼────────────────────────┼───────────────┤\n",
              "│ dense_13 (<span style=\"color: #0087ff; text-decoration-color: #0087ff\">Dense</span>)                │ (<span style=\"color: #00d7ff; text-decoration-color: #00d7ff\">None</span>, <span style=\"color: #00af00; text-decoration-color: #00af00\">32</span>)             │         <span style=\"color: #00af00; text-decoration-color: #00af00\">2,080</span> │\n",
              "├─────────────────────────────────┼────────────────────────┼───────────────┤\n",
              "│ dropout_7 (<span style=\"color: #0087ff; text-decoration-color: #0087ff\">Dropout</span>)             │ (<span style=\"color: #00d7ff; text-decoration-color: #00d7ff\">None</span>, <span style=\"color: #00af00; text-decoration-color: #00af00\">32</span>)             │             <span style=\"color: #00af00; text-decoration-color: #00af00\">0</span> │\n",
              "├─────────────────────────────────┼────────────────────────┼───────────────┤\n",
              "│ dense_14 (<span style=\"color: #0087ff; text-decoration-color: #0087ff\">Dense</span>)                │ (<span style=\"color: #00d7ff; text-decoration-color: #00d7ff\">None</span>, <span style=\"color: #00af00; text-decoration-color: #00af00\">16</span>)             │           <span style=\"color: #00af00; text-decoration-color: #00af00\">528</span> │\n",
              "├─────────────────────────────────┼────────────────────────┼───────────────┤\n",
              "│ dense_15 (<span style=\"color: #0087ff; text-decoration-color: #0087ff\">Dense</span>)                │ (<span style=\"color: #00d7ff; text-decoration-color: #00d7ff\">None</span>, <span style=\"color: #00af00; text-decoration-color: #00af00\">1</span>)              │            <span style=\"color: #00af00; text-decoration-color: #00af00\">17</span> │\n",
              "└─────────────────────────────────┴────────────────────────┴───────────────┘\n",
              "</pre>\n"
            ],
            "text/plain": [
              "┏━━━━━━━━━━━━━━━━━━━━━━━━━━━━━━━━━┳━━━━━━━━━━━━━━━━━━━━━━━━┳━━━━━━━━━━━━━━━┓\n",
              "┃\u001b[1m \u001b[0m\u001b[1mLayer (type)                   \u001b[0m\u001b[1m \u001b[0m┃\u001b[1m \u001b[0m\u001b[1mOutput Shape          \u001b[0m\u001b[1m \u001b[0m┃\u001b[1m \u001b[0m\u001b[1m      Param #\u001b[0m\u001b[1m \u001b[0m┃\n",
              "┡━━━━━━━━━━━━━━━━━━━━━━━━━━━━━━━━━╇━━━━━━━━━━━━━━━━━━━━━━━━╇━━━━━━━━━━━━━━━┩\n",
              "│ dense_12 (\u001b[38;5;33mDense\u001b[0m)                │ (\u001b[38;5;45mNone\u001b[0m, \u001b[38;5;34m64\u001b[0m)             │           \u001b[38;5;34m320\u001b[0m │\n",
              "├─────────────────────────────────┼────────────────────────┼───────────────┤\n",
              "│ dropout_6 (\u001b[38;5;33mDropout\u001b[0m)             │ (\u001b[38;5;45mNone\u001b[0m, \u001b[38;5;34m64\u001b[0m)             │             \u001b[38;5;34m0\u001b[0m │\n",
              "├─────────────────────────────────┼────────────────────────┼───────────────┤\n",
              "│ dense_13 (\u001b[38;5;33mDense\u001b[0m)                │ (\u001b[38;5;45mNone\u001b[0m, \u001b[38;5;34m32\u001b[0m)             │         \u001b[38;5;34m2,080\u001b[0m │\n",
              "├─────────────────────────────────┼────────────────────────┼───────────────┤\n",
              "│ dropout_7 (\u001b[38;5;33mDropout\u001b[0m)             │ (\u001b[38;5;45mNone\u001b[0m, \u001b[38;5;34m32\u001b[0m)             │             \u001b[38;5;34m0\u001b[0m │\n",
              "├─────────────────────────────────┼────────────────────────┼───────────────┤\n",
              "│ dense_14 (\u001b[38;5;33mDense\u001b[0m)                │ (\u001b[38;5;45mNone\u001b[0m, \u001b[38;5;34m16\u001b[0m)             │           \u001b[38;5;34m528\u001b[0m │\n",
              "├─────────────────────────────────┼────────────────────────┼───────────────┤\n",
              "│ dense_15 (\u001b[38;5;33mDense\u001b[0m)                │ (\u001b[38;5;45mNone\u001b[0m, \u001b[38;5;34m1\u001b[0m)              │            \u001b[38;5;34m17\u001b[0m │\n",
              "└─────────────────────────────────┴────────────────────────┴───────────────┘\n"
            ]
          },
          "metadata": {},
          "output_type": "display_data"
        },
        {
          "data": {
            "text/html": [
              "<pre style=\"white-space:pre;overflow-x:auto;line-height:normal;font-family:Menlo,'DejaVu Sans Mono',consolas,'Courier New',monospace\"><span style=\"font-weight: bold\"> Total params: </span><span style=\"color: #00af00; text-decoration-color: #00af00\">2,945</span> (11.50 KB)\n",
              "</pre>\n"
            ],
            "text/plain": [
              "\u001b[1m Total params: \u001b[0m\u001b[38;5;34m2,945\u001b[0m (11.50 KB)\n"
            ]
          },
          "metadata": {},
          "output_type": "display_data"
        },
        {
          "data": {
            "text/html": [
              "<pre style=\"white-space:pre;overflow-x:auto;line-height:normal;font-family:Menlo,'DejaVu Sans Mono',consolas,'Courier New',monospace\"><span style=\"font-weight: bold\"> Trainable params: </span><span style=\"color: #00af00; text-decoration-color: #00af00\">2,945</span> (11.50 KB)\n",
              "</pre>\n"
            ],
            "text/plain": [
              "\u001b[1m Trainable params: \u001b[0m\u001b[38;5;34m2,945\u001b[0m (11.50 KB)\n"
            ]
          },
          "metadata": {},
          "output_type": "display_data"
        },
        {
          "data": {
            "text/html": [
              "<pre style=\"white-space:pre;overflow-x:auto;line-height:normal;font-family:Menlo,'DejaVu Sans Mono',consolas,'Courier New',monospace\"><span style=\"font-weight: bold\"> Non-trainable params: </span><span style=\"color: #00af00; text-decoration-color: #00af00\">0</span> (0.00 B)\n",
              "</pre>\n"
            ],
            "text/plain": [
              "\u001b[1m Non-trainable params: \u001b[0m\u001b[38;5;34m0\u001b[0m (0.00 B)\n"
            ]
          },
          "metadata": {},
          "output_type": "display_data"
        }
      ],
      "source": [
        "# Define the model\n",
        "model = Sequential([  \n",
        "    # 📌 Sequential means layers are stacked one after another in order.\n",
        "    \n",
        "    Dense(64, activation='relu', input_shape=(X_train.shape[1],)),  \n",
        "    # 📌 First hidden layer (Dense = fully connected layer).\n",
        "    # 64 neurons, ReLU activation function.\n",
        "    # input_shape=(X_train.shape[1],) → number of input features (columns).\n",
        "    # This is the entry point for our ANN.\n",
        "    \n",
        "    Dropout(0.3),  \n",
        "    # 📌 Randomly drops 30% of neurons during training.\n",
        "    # Prevents overfitting by ensuring the network doesn’t rely too much on specific neurons.\n",
        "    \n",
        "    Dense(32, activation='relu'),  \n",
        "    # 📌 Second hidden layer with 32 neurons and ReLU activation.\n",
        "    # Reduces dimensionality and extracts deeper patterns.\n",
        "    \n",
        "    Dropout(0.3),  \n",
        "    # 📌 Another Dropout layer to improve generalization.\n",
        "    \n",
        "    Dense(16, activation='relu'),  \n",
        "    # 📌 Third hidden layer with 16 neurons and ReLU activation.\n",
        "    # Further condenses feature representations.\n",
        "    \n",
        "    Dense(1, activation='sigmoid')  \n",
        "    # 📌 Output layer with 1 neuron.\n",
        "    # Sigmoid activation squashes values between 0 and 1 → ideal for binary classification (fake vs real).\n",
        "])\n",
        "\n",
        "\n",
        "# Compile the model\n",
        "model.compile(\n",
        "    optimizer='adam',  \n",
        "    # 📌 Adam optimizer → efficient gradient descent algorithm for fast convergence.\n",
        "    \n",
        "    loss='binary_crossentropy',  \n",
        "    # 📌 Binary crossentropy loss function → standard for binary classification problems.\n",
        "    \n",
        "    metrics=['accuracy']  \n",
        "    # 📌 We’ll track accuracy during training/validation/testing.\n",
        ")\n",
        "\n",
        "\n",
        "# Add early stopping to prevent overfitting\n",
        "early_stopping = EarlyStopping(\n",
        "    monitor='val_loss',          # 📌 Watches validation loss.\n",
        "    patience=5,                  # 📌 If no improvement for 5 epochs → stop training.\n",
        "    restore_best_weights=True    # 📌 Roll back to the epoch with the best validation loss.\n",
        ")\n",
        "\n",
        "\n",
        "# Check model summary\n",
        "model.summary()  \n",
        "# 📌 Prints the architecture of the ANN:\n",
        "# - Layer types (Dense, Dropout)\n",
        "# - Output shapes\n",
        "# - Number of trainable parameters\n",
        "# Useful to confirm the network is built as expected.\n"
      ]
    },
    {
      "cell_type": "markdown",
      "metadata": {
        "id": "GWtHcJjxuKiW"
      },
      "source": [
        "# **Step 5 : Train The Model**"
      ]
    },
    {
      "cell_type": "code",
      "execution_count": 53,
      "metadata": {
        "colab": {
          "base_uri": "https://localhost:8080/"
        },
        "id": "XTqXr-a-uQPL",
        "outputId": "2aa9e0f0-4f81-4b86-afdf-ae5b29261789"
      },
      "outputs": [
        {
          "name": "stdout",
          "output_type": "stream",
          "text": [
            "Epoch 1/15\n",
            "\u001b[1m22/22\u001b[0m \u001b[32m━━━━━━━━━━━━━━━━━━━━\u001b[0m\u001b[37m\u001b[0m \u001b[1m8s\u001b[0m 45ms/step - accuracy: 0.5971 - loss: 0.6636 - val_accuracy: 0.8125 - val_loss: 0.6085\n",
            "Epoch 2/15\n",
            "\u001b[1m22/22\u001b[0m \u001b[32m━━━━━━━━━━━━━━━━━━━━\u001b[0m\u001b[37m\u001b[0m \u001b[1m1s\u001b[0m 19ms/step - accuracy: 0.7729 - loss: 0.5823 - val_accuracy: 0.8523 - val_loss: 0.5031\n",
            "Epoch 3/15\n",
            "\u001b[1m22/22\u001b[0m \u001b[32m━━━━━━━━━━━━━━━━━━━━\u001b[0m\u001b[37m\u001b[0m \u001b[1m1s\u001b[0m 26ms/step - accuracy: 0.8614 - loss: 0.4801 - val_accuracy: 0.8750 - val_loss: 0.3829\n",
            "Epoch 4/15\n",
            "\u001b[1m22/22\u001b[0m \u001b[32m━━━━━━━━━━━━━━━━━━━━\u001b[0m\u001b[37m\u001b[0m \u001b[1m2s\u001b[0m 55ms/step - accuracy: 0.9171 - loss: 0.3636 - val_accuracy: 0.9261 - val_loss: 0.2730\n",
            "Epoch 5/15\n",
            "\u001b[1m22/22\u001b[0m \u001b[32m━━━━━━━━━━━━━━━━━━━━\u001b[0m\u001b[37m\u001b[0m \u001b[1m1s\u001b[0m 23ms/step - accuracy: 0.9414 - loss: 0.2599 - val_accuracy: 0.9602 - val_loss: 0.1809\n",
            "Epoch 6/15\n",
            "\u001b[1m22/22\u001b[0m \u001b[32m━━━━━━━━━━━━━━━━━━━━\u001b[0m\u001b[37m\u001b[0m \u001b[1m1s\u001b[0m 20ms/step - accuracy: 0.9586 - loss: 0.1719 - val_accuracy: 0.9602 - val_loss: 0.1249\n",
            "Epoch 7/15\n",
            "\u001b[1m22/22\u001b[0m \u001b[32m━━━━━━━━━━━━━━━━━━━━\u001b[0m\u001b[37m\u001b[0m \u001b[1m1s\u001b[0m 43ms/step - accuracy: 0.9743 - loss: 0.1187 - val_accuracy: 0.9830 - val_loss: 0.0926\n",
            "Epoch 8/15\n",
            "\u001b[1m22/22\u001b[0m \u001b[32m━━━━━━━━━━━━━━━━━━━━\u001b[0m\u001b[37m\u001b[0m \u001b[1m1s\u001b[0m 24ms/step - accuracy: 0.9714 - loss: 0.1051 - val_accuracy: 0.9773 - val_loss: 0.0679\n",
            "Epoch 9/15\n",
            "\u001b[1m22/22\u001b[0m \u001b[32m━━━━━━━━━━━━━━━━━━━━\u001b[0m\u001b[37m\u001b[0m \u001b[1m0s\u001b[0m 17ms/step - accuracy: 0.9714 - loss: 0.0904 - val_accuracy: 0.9830 - val_loss: 0.0596\n",
            "Epoch 10/15\n",
            "\u001b[1m22/22\u001b[0m \u001b[32m━━━━━━━━━━━━━━━━━━━━\u001b[0m\u001b[37m\u001b[0m \u001b[1m1s\u001b[0m 32ms/step - accuracy: 0.9814 - loss: 0.0649 - val_accuracy: 0.9830 - val_loss: 0.0519\n",
            "Epoch 11/15\n",
            "\u001b[1m22/22\u001b[0m \u001b[32m━━━━━━━━━━━━━━━━━━━━\u001b[0m\u001b[37m\u001b[0m \u001b[1m0s\u001b[0m 14ms/step - accuracy: 0.9714 - loss: 0.0690 - val_accuracy: 0.9830 - val_loss: 0.0434\n",
            "Epoch 12/15\n",
            "\u001b[1m22/22\u001b[0m \u001b[32m━━━━━━━━━━━━━━━━━━━━\u001b[0m\u001b[37m\u001b[0m \u001b[1m0s\u001b[0m 11ms/step - accuracy: 0.9814 - loss: 0.0545 - val_accuracy: 0.9830 - val_loss: 0.0306\n",
            "Epoch 13/15\n",
            "\u001b[1m22/22\u001b[0m \u001b[32m━━━━━━━━━━━━━━━━━━━━\u001b[0m\u001b[37m\u001b[0m \u001b[1m0s\u001b[0m 16ms/step - accuracy: 0.9800 - loss: 0.0465 - val_accuracy: 0.9830 - val_loss: 0.0294\n",
            "Epoch 14/15\n",
            "\u001b[1m22/22\u001b[0m \u001b[32m━━━━━━━━━━━━━━━━━━━━\u001b[0m\u001b[37m\u001b[0m \u001b[1m0s\u001b[0m 18ms/step - accuracy: 0.9929 - loss: 0.0313 - val_accuracy: 0.9830 - val_loss: 0.0242\n",
            "Epoch 15/15\n",
            "\u001b[1m22/22\u001b[0m \u001b[32m━━━━━━━━━━━━━━━━━━━━\u001b[0m\u001b[37m\u001b[0m \u001b[1m1s\u001b[0m 13ms/step - accuracy: 0.9886 - loss: 0.0355 - val_accuracy: 1.0000 - val_loss: 0.0161\n"
          ]
        }
      ],
      "source": [
        "# Train the model\n",
        "history = model.fit(  \n",
        "    X_train, y_train,  \n",
        "    # 📌 Training data (features and labels).\n",
        "    # The model will learn patterns from these samples.\n",
        "    \n",
        "    validation_data=(X_val, y_val),  \n",
        "    # 📌 Validation set → evaluates model performance after each epoch.\n",
        "    # Used to monitor overfitting (model doing well on train but poorly on unseen data).\n",
        "    \n",
        "    epochs=15,  \n",
        "    # 📌 Maximum number of times the model sees the entire dataset.\n",
        "    # Here, 15 passes through the training set.\n",
        "    \n",
        "    batch_size=32,  \n",
        "    # 📌 Number of samples processed before updating weights.\n",
        "    # Smaller batch size → more updates, but slower training.\n",
        "    # 32 is a standard balance for speed and stability.\n",
        "    \n",
        "    callbacks=[early_stopping]  \n",
        "    # 📌 Uses EarlyStopping (defined earlier).\n",
        "    # Training will stop before 15 epochs if validation loss doesn’t improve for 5 consecutive epochs.\n",
        ")\n"
      ]
    },
    {
      "cell_type": "markdown",
      "metadata": {
        "id": "k5AjF3p7uZNo"
      },
      "source": [
        "# **Step 6 : Evaluate the Model**"
      ]
    },
    {
      "cell_type": "code",
      "execution_count": 54,
      "metadata": {
        "colab": {
          "base_uri": "https://localhost:8080/"
        },
        "id": "3I_1Y5utugNy",
        "outputId": "d8a01faa-5a2b-4c98-c968-169d59ffec21"
      },
      "outputs": [
        {
          "name": "stdout",
          "output_type": "stream",
          "text": [
            "\u001b[1m7/7\u001b[0m \u001b[32m━━━━━━━━━━━━━━━━━━━━\u001b[0m\u001b[37m\u001b[0m \u001b[1m0s\u001b[0m 25ms/step - accuracy: 0.9864 - loss: 0.0227\n",
            "Test Loss: 0.0227, Test Accuracy: 0.9864\n"
          ]
        }
      ],
      "source": [
        "# Evaluate the model on the test set\n",
        "test_loss, test_acc = model.evaluate(X_test, y_test)  \n",
        "# 📌 model.evaluate → Runs the model on the test dataset.\n",
        "# - X_test: test features (scaled inputs).\n",
        "# - y_test: true labels (ground truth).\n",
        "# Returns two values:\n",
        "#   test_loss → the loss value on test data (how far predictions are from true labels).\n",
        "#   test_acc  → accuracy on test data (fraction of correct predictions).\n",
        "\n",
        "\n",
        "print(f\"Test Loss: {test_loss:.4f}, Test Accuracy: {test_acc:.4f}\")  \n",
        "# 📌 Prints test performance in a human-readable format.\n",
        "# :.4f → formats the numbers to 4 decimal places.\n",
        "# Example output: Test Loss: 0.2456, Test Accuracy: 0.9523\n"
      ]
    },
    {
      "cell_type": "markdown",
      "metadata": {
        "id": "n_LAeizNuibz"
      },
      "source": [
        "# **7. Generate Evaluation Metrics**"
      ]
    },
    {
      "cell_type": "code",
      "execution_count": 55,
      "metadata": {
        "colab": {
          "base_uri": "https://localhost:8080/"
        },
        "id": "vNTGBAIbuoVv",
        "outputId": "80cd042f-2bfc-4b25-8a57-0a2f1cec6230"
      },
      "outputs": [
        {
          "name": "stdout",
          "output_type": "stream",
          "text": [
            "\u001b[1m7/7\u001b[0m \u001b[32m━━━━━━━━━━━━━━━━━━━━\u001b[0m\u001b[37m\u001b[0m \u001b[1m1s\u001b[0m 55ms/step\n",
            "Classification Report:\n",
            "              precision    recall  f1-score   support\n",
            "\n",
            "           0       1.00      0.98      0.99       135\n",
            "           1       0.97      1.00      0.98        85\n",
            "\n",
            "    accuracy                           0.99       220\n",
            "   macro avg       0.98      0.99      0.99       220\n",
            "weighted avg       0.99      0.99      0.99       220\n",
            "\n"
          ]
        }
      ],
      "source": [
        "# Generate predictions for the test dataset using the trained model.\n",
        "# The model.predict(X_test) outputs probabilities between 0 and 1 for each sample.\n",
        "# ( > 0.5 ) converts probabilities to binary class labels: values > 0.5 become True (1), otherwise False (0).\n",
        "# .astype(int) converts the boolean values (True/False) into integers (1/0) for classification.\n",
        "y_pred = (model.predict(X_test) > 0.5).astype(int)\n",
        "\n",
        "# Print a header to indicate that the following output is the classification report.\n",
        "print(\"Classification Report:\")\n",
        "\n",
        "# Generate and print a detailed classification report comparing the true labels (y_test)\n",
        "# with the predicted labels (y_pred). \n",
        "# This report includes metrics like precision, recall, f1-score, and support for each class.\n",
        "print(classification_report(y_test, y_pred))\n"
      ]
    },
    {
      "cell_type": "code",
      "execution_count": 56,
      "metadata": {
        "colab": {
          "base_uri": "https://localhost:8080/",
          "height": 487
        },
        "id": "kpn1UaCQuspZ",
        "outputId": "dcf3cbec-d095-4faf-c14a-7d51943dc4b9"
      },
      "outputs": [
        {
          "data": {
            "image/png": "[encoded data removed]",
            "text/plain": [
              "<Figure size 600x500 with 2 Axes>"
            ]
          },
          "metadata": {},
          "output_type": "display_data"
        }
      ],
      "source": [
        "# Import the seaborn library for creating advanced visualizations\n",
        "import seaborn as sns\n",
        "\n",
        "# Compute the confusion matrix comparing true labels (y_test) to predicted labels (y_pred)\n",
        "cm = confusion_matrix(y_test, y_pred)\n",
        "\n",
        "# Create a new figure for the plot with a size of 6 inches by 5 inches\n",
        "plt.figure(figsize=(6, 5))\n",
        "\n",
        "# Plot the confusion matrix using seaborn's heatmap function\n",
        "# - cm: the confusion matrix data\n",
        "# - annot=True: write the data values on each cell\n",
        "# - fmt='d': format numbers as integers\n",
        "# - cmap='Blues': use a blue color palette\n",
        "# - xticklabels and yticklabels: label the axes with class names\n",
        "sns.heatmap(cm, annot=True, fmt='d', cmap='Blues', \n",
        "            xticklabels=['Class 0', 'Class 1'], \n",
        "            yticklabels=['Class 0', 'Class 1'])\n",
        "\n",
        "# Set the label for the x-axis\n",
        "plt.xlabel('Predicted')\n",
        "\n",
        "# Set the label for the y-axis\n",
        "plt.ylabel('True')\n",
        "\n",
        "# Set the title of the plot\n",
        "plt.title('Confusion Matrix')\n",
        "\n",
        "# Display the plot\n",
        "plt.show()\n"
      ]
    },
    {
      "cell_type": "markdown",
      "metadata": {
        "id": "rtkRe6oiu0NI"
      },
      "source": [
        "# **Step 8: Prediction System**"
      ]
    },
    {
      "cell_type": "code",
      "execution_count": 57,
      "metadata": {
        "id": "_UxXq2aEu7iF"
      },
      "outputs": [],
      "source": [
        "# Import numpy library for numerical operations (arrays, matrices, etc.)\n",
        "import numpy as np\n",
        "\n",
        "# Define a function called make_prediction that takes input_data as argument\n",
        "def make_prediction(input_data):\n",
        "    \n",
        "    # Preprocess the input data before feeding it to the model\n",
        "    # Scale the input using a pre-fitted scaler (assumes `scaler` is already trained)\n",
        "    # transform() scales the input data based on the parameters learned from training data\n",
        "    input_data_scaled = scaler.transform(input_data)  # Do not use fit_transform to avoid refitting\n",
        "    \n",
        "    # Use the trained model to predict probabilities for the scaled input data\n",
        "    predictions = model.predict(input_data_scaled)\n",
        "    \n",
        "    # Convert the predicted probabilities to binary class labels (0 or 1)\n",
        "    # Any probability > 0.5 is considered class 1, otherwise class 0\n",
        "    predicted_classes = (predictions > 0.5).astype(int)\n",
        "    \n",
        "    # Return a human-readable string based on the predicted class\n",
        "    # If the predicted class is 1, return \"Real\"; otherwise, return \"Fake\"\n",
        "    if predicted_classes[0] == 1:\n",
        "        return \"Real\"\n",
        "    else:\n",
        "        return \"Fake\"\n"
      ]
    },
    {
      "cell_type": "code",
      "execution_count": 58,
      "metadata": {
        "colab": {
          "base_uri": "https://localhost:8080/"
        },
        "id": "pUEvQ6xXu-2a",
        "outputId": "504e193b-c96c-487c-a06e-f9e34d2ddb0a"
      },
      "outputs": [
        {
          "name": "stderr",
          "output_type": "stream",
          "text": [
            "c:\\Users\\kevin\\Documents\\my projects\\Building Fake Bank Notes Detection System Using Deep learning ANN\\venv\\Lib\\site-packages\\sklearn\\utils\\validation.py:2749: UserWarning: X does not have valid feature names, but StandardScaler was fitted with feature names\n",
            "  warnings.warn(\n"
          ]
        },
        {
          "name": "stdout",
          "output_type": "stream",
          "text": [
            "\u001b[1m1/1\u001b[0m \u001b[32m━━━━━━━━━━━━━━━━━━━━\u001b[0m\u001b[37m\u001b[0m \u001b[1m0s\u001b[0m 173ms/step\n",
            "Fake\n"
          ]
        }
      ],
      "source": [
        "# Create example input data as a NumPy array\n",
        "# Each row represents one sample and each column represents a feature\n",
        "# Replace these numbers with actual data from a form or dataset\n",
        "input_data = np.array([[1.5, 2.3, 3.4, 0.7]])  # Example features\n",
        "\n",
        "# Call the make_prediction function defined earlier\n",
        "# This function will preprocess the data, make a prediction, and return \"Real\" or \"Fake\"\n",
        "result = make_prediction(input_data)\n",
        "\n",
        "# Print the prediction result to the console\n",
        "# Output will be either \"Real\" or \"Fake\" based on the model's prediction\n",
        "print(result)\n"
      ]
    },
    {
      "cell_type": "code",
      "execution_count": 59,
      "metadata": {
        "colab": {
          "base_uri": "https://localhost:8080/"
        },
        "id": "tAcRm4r8vCoW",
        "outputId": "174556e1-a136-4c56-8d30-6b7e3509d36e"
      },
      "outputs": [
        {
          "name": "stderr",
          "output_type": "stream",
          "text": [
            "c:\\Users\\kevin\\Documents\\my projects\\Building Fake Bank Notes Detection System Using Deep learning ANN\\venv\\Lib\\site-packages\\sklearn\\utils\\validation.py:2749: UserWarning: X does not have valid feature names, but StandardScaler was fitted with feature names\n",
            "  warnings.warn(\n"
          ]
        },
        {
          "name": "stdout",
          "output_type": "stream",
          "text": [
            "\u001b[1m1/1\u001b[0m \u001b[32m━━━━━━━━━━━━━━━━━━━━\u001b[0m\u001b[37m\u001b[0m \u001b[1m1s\u001b[0m 1s/step   \n",
            "Real\n"
          ]
        }
      ],
      "source": [
        "# Create example input data as a NumPy array\n",
        "# Each row is a single sample, and each column represents a feature\n",
        "# Replace the numbers with actual input values from your form or dataset\n",
        "input_data = np.array([[-3.9411, -12.8792,  13.0597,  -3.3125]])  # Example features\n",
        "\n",
        "# Call the make_prediction function to get the prediction for this input\n",
        "# The function will scale the input, use the trained model to predict, \n",
        "# and return \"Real\" or \"Fake\"\n",
        "result = make_prediction(input_data)\n",
        "\n",
        "# Print the prediction result\n",
        "# Output will be \"Real\" if the model predicts class 1, or \"Fake\" if it predicts class 0\n",
        "print(result)\n"
      ]
    },
    {
      "cell_type": "markdown",
      "metadata": {
        "id": "c0uwIowLvFvY"
      },
      "source": [
        "\n",
        "# **Step 9: Save Model**"
      ]
    },
    {
      "cell_type": "code",
      "execution_count": 60,
      "metadata": {
        "colab": {
          "base_uri": "https://localhost:8080/"
        },
        "id": "LURiTz1gvI8B",
        "outputId": "a35e87ac-1b1e-4518-a480-6a58869b8bc9"
      },
      "outputs": [
        {
          "name": "stderr",
          "output_type": "stream",
          "text": [
            "WARNING:absl:You are saving your model as an HDF5 file via `model.save()` or `keras.saving.save_model(model)`. This file format is considered legacy. We recommend using instead the native Keras format, e.g. `model.save('my_model.keras')` or `keras.saving.save_model(model, 'my_model.keras')`. \n"
          ]
        }
      ],
      "source": [
        "# Save the trained model to a file in HDF5 format\n",
        "# 'models/model.h5' is the file path where the model will be stored\n",
        "# This allows you to reload the model later without retraining\n",
        "model.save('models/model.h5')\n",
        "\n",
        "# Save the pre-fitted scaler using Python's pickle module\n",
        "# Open a file in write-binary mode ('wb') to store the scaler object\n",
        "with open('models/scaler.pkl', 'wb') as scaler_file:\n",
        "    # Dump the scaler object into the file\n",
        "    # This preserves the scaling parameters (mean, variance) for future use\n",
        "    pickle.dump(scaler, scaler_file)\n"
      ]
    }
  ],
  "metadata": {
    "colab": {
      "provenance": []
    },
    "kernelspec": {
      "display_name": "venv (3.13.7)",
      "language": "python",
      "name": "python3"
    },
    "language_info": {
      "codemirror_mode": {
        "name": "ipython",
        "version": 3
      },
      "file_extension": ".py",
      "mimetype": "text/x-python",
      "name": "python",
      "nbconvert_exporter": "python",
      "pygments_lexer": "ipython3",
      "version": "3.13.7"
    }
  },
  "nbformat": 4,
  "nbformat_minor": 0
}
